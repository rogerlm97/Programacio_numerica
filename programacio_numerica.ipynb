{
 "cells": [
  {
   "cell_type": "markdown",
   "id": "f262332b",
   "metadata": {},
   "source": [
    "# Exercici 1\n",
    "### Crea una funció que donat un Array d’una dimensió, et faci un resum estadístic bàsic de les dades. Si detecta que l’array té més d’una dimensió, ha de mostrar un missatge d’error."
   ]
  },
  {
   "cell_type": "code",
   "execution_count": 1,
   "id": "5fa46f5e",
   "metadata": {},
   "outputs": [],
   "source": [
    "import numpy as np"
   ]
  },
  {
   "cell_type": "code",
   "execution_count": 33,
   "id": "f4557be2",
   "metadata": {},
   "outputs": [],
   "source": [
    "def estadistics(x):\n",
    "    import numpy as np\n",
    "    if x.ndim > 1:\n",
    "        print(\"Error: vector de més d'una dimensió.\")\n",
    "    else:\n",
    "        print (\"Càlcul estadístic\")\n",
    "        \n",
    "        a = x.mean()\n",
    "        b = x.min()\n",
    "        c = x.max()\n",
    "        d = x.sum()\n",
    "        e = np.median(x)\n",
    "        f = np.std(x)\n",
    "    \n",
    "        print(\"Mitjana:\", a)\n",
    "        print(\"Mínim:\",b)\n",
    "        print(\"Màxim:\",c)\n",
    "        print(\"Sumatori:\",d)\n",
    "        print(\"Mediana:\",e)\n",
    "        print(\"Desviació estàndard:\",f)"
   ]
  },
  {
   "cell_type": "code",
   "execution_count": 54,
   "id": "e2871ea3",
   "metadata": {},
   "outputs": [
    {
     "name": "stdout",
     "output_type": "stream",
     "text": [
      "Càlcul estadístic\n",
      "Mitjana: 4.888888888888889\n",
      "Mínim: 1\n",
      "Màxim: 9\n",
      "Sumatori: 44\n",
      "Mediana: 5.0\n",
      "Desviació estàndard: 2.5141574442188355\n"
     ]
    }
   ],
   "source": [
    "x = np.array([1,4,2,6,3,8,5,9,6])\n",
    "y = np.array([[(1,4),(2,6)],[(3,8),(5,9)]])\n",
    "estadistics(y)"
   ]
  },
  {
   "cell_type": "markdown",
   "id": "3a463048",
   "metadata": {},
   "source": [
    "# Exercici 2\n",
    "### Crea una funció que et generi un quadrat NxN de nombres aleatoris entre el 0 i el 100."
   ]
  },
  {
   "cell_type": "code",
   "execution_count": 41,
   "id": "4bb31390",
   "metadata": {},
   "outputs": [],
   "source": [
    "def quadrat_aleatori(N):\n",
    "    import numpy as np\n",
    "    quadrat_aleatori =  np.random.random((N,N)) * 100\n",
    "    print(quadrat_aleatori)"
   ]
  },
  {
   "cell_type": "code",
   "execution_count": 42,
   "id": "5d1d3ad2",
   "metadata": {},
   "outputs": [
    {
     "name": "stdout",
     "output_type": "stream",
     "text": [
      "[[90.63485768 82.54654386 31.22932995 93.99788744]\n",
      " [18.16013518 37.39389853 19.54844421 85.31058697]\n",
      " [76.24525301 88.51935953 58.64983154 29.25282882]\n",
      " [14.67499707 74.47557619 30.43614495 73.87942278]]\n"
     ]
    }
   ],
   "source": [
    "quadrat_aleatori(4)"
   ]
  },
  {
   "cell_type": "markdown",
   "id": "18b694b7",
   "metadata": {},
   "source": [
    "# Exercici 3\n",
    "### Crea una funció que donada una taula de dues dimensions, et calculi els totals per fila i els totals per columna."
   ]
  },
  {
   "cell_type": "code",
   "execution_count": 141,
   "id": "7636b533",
   "metadata": {},
   "outputs": [],
   "source": [
    "def totals_fila_columna(x):\n",
    "    if x.ndim != 2:\n",
    "        print(\"La taula ha de tenir dues dimensions!\")\n",
    "    else:\n",
    "        r1 = x.sum(1)[0]\n",
    "        r2 = x.sum(1)[1]\n",
    "        print(\"Suma fila 1:\",r1)\n",
    "        print(\"Suma fila 2:\",r2)\n",
    "        for i in np.arange((len(x[0,]))):\n",
    "            print(\"Suma columna \",i,\": \",x.sum(0)[i],sep=\"\")"
   ]
  },
  {
   "cell_type": "code",
   "execution_count": 235,
   "id": "40a93ca1",
   "metadata": {},
   "outputs": [
    {
     "name": "stdout",
     "output_type": "stream",
     "text": [
      "Suma fila 1: 47\n",
      "Suma fila 2: 119\n",
      "Suma columna 0: 5\n",
      "Suma columna 1: 6\n",
      "Suma columna 2: 8\n",
      "Suma columna 3: 10\n",
      "Suma columna 4: 7\n",
      "Suma columna 5: 12\n",
      "Suma columna 6: 5\n",
      "Suma columna 7: 95\n",
      "Suma columna 8: 11\n",
      "Suma columna 9: 7\n"
     ]
    }
   ],
   "source": [
    "a = np.array([(1,4,3,6,5,7,4,6,8,3),(4,2,5,4,2,5,1,89,3,4)])\n",
    "\n",
    "totals_fila_columna(a)"
   ]
  },
  {
   "cell_type": "markdown",
   "id": "eca0e2c2",
   "metadata": {},
   "source": [
    "# Exercici 4\n",
    "### Implementa manualment una funció que calculi el coeficient de correlació. Informa’t-en sobre els seus usos i interpretació."
   ]
  },
  {
   "cell_type": "code",
   "execution_count": 233,
   "id": "12794a84",
   "metadata": {},
   "outputs": [],
   "source": [
    "def coef_corr(x):\n",
    "    x2 = x[0]**2\n",
    "    y2 = x[1]**2\n",
    "    xy = x[0]*x[1]\n",
    "    mx = x.sum(1)[0]/len(x[1,])\n",
    "    my = x.sum(1)[1]/len(x[1,])\n",
    "    cov = (xy.sum()/len(xy)) - (mx*my)\n",
    "    std_x =((x2.sum()/len(x2))-mx**2)**0.5\n",
    "    std_y =((y2.sum()/len(y2))-my**2)**0.5\n",
    "    r = cov/(std_x*std_y)\n",
    "    print(\"El coeficient de correlació és:\",r)"
   ]
  },
  {
   "cell_type": "code",
   "execution_count": 236,
   "id": "847e7765",
   "metadata": {},
   "outputs": [
    {
     "name": "stdout",
     "output_type": "stream",
     "text": [
      "El coeficient de correlació és: 0.9972380369469146\n"
     ]
    }
   ],
   "source": [
    "a = np.array([(1,4,3,2,6,7),(3,8,6,4,12,14)])\n",
    "\n",
    "coef_corr(a)"
   ]
  },
  {
   "cell_type": "markdown",
   "id": "a865e1c2",
   "metadata": {},
   "source": [
    "# "
   ]
  }
 ],
 "metadata": {
  "kernelspec": {
   "display_name": "Python 3 (ipykernel)",
   "language": "python",
   "name": "python3"
  },
  "language_info": {
   "codemirror_mode": {
    "name": "ipython",
    "version": 3
   },
   "file_extension": ".py",
   "mimetype": "text/x-python",
   "name": "python",
   "nbconvert_exporter": "python",
   "pygments_lexer": "ipython3",
   "version": "3.9.1"
  }
 },
 "nbformat": 4,
 "nbformat_minor": 5
}
